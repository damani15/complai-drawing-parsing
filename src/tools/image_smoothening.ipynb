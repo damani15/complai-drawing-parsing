{
 "cells": [
  {
   "cell_type": "code",
   "execution_count": 4,
   "metadata": {
    "scrolled": true
   },
   "outputs": [
    {
     "data": {
      "text/plain": [
       "-1"
      ]
     },
     "execution_count": 4,
     "metadata": {},
     "output_type": "execute_result"
    }
   ],
   "source": [
    "import cv2 \n",
    "import numpy as np \n",
    "\n",
    "#reading image\n",
    "image = cv2.imread('fake_image_2.png') \n",
    "  \n",
    "cv2.imshow('Original Image', image) \n",
    "cv2.waitKey(0) \n",
    "\n",
    "#Applying Gaussian Blur for smoothening\n",
    "Gaussian = cv2.GaussianBlur(image, (3,3), 10)\n",
    "\n",
    "#Sharpening the image\n",
    "filter = np.array([[-1, -1, -1], [-1, 9, -1], [-1, -1, -1]])    \n",
    "sharpen_img_2=cv2.filter2D(Gaussian,-1,filter)\n",
    "\n",
    "# Opening the image to fill the gaps and thicken the edges\n",
    "kernel = np.ones((2,2),np.uint8)\n",
    "opening = cv2.morphologyEx(sharpen_img_2, cv2.MORPH_OPEN, kernel)\n",
    "\n",
    "cv2.imshow('processed_image', opening)\n",
    "cv2.waitKey(0) \n"
   ]
  },
  {
   "cell_type": "code",
   "execution_count": null,
   "metadata": {},
   "outputs": [],
   "source": []
  },
  {
   "cell_type": "code",
   "execution_count": null,
   "metadata": {},
   "outputs": [],
   "source": []
  }
 ],
 "metadata": {
  "kernelspec": {
   "display_name": "Python 3",
   "language": "python",
   "name": "python3"
  },
  "language_info": {
   "codemirror_mode": {
    "name": "ipython",
    "version": 3
   },
   "file_extension": ".py",
   "mimetype": "text/x-python",
   "name": "python",
   "nbconvert_exporter": "python",
   "pygments_lexer": "ipython3",
   "version": "3.7.7"
  }
 },
 "nbformat": 4,
 "nbformat_minor": 2
}
